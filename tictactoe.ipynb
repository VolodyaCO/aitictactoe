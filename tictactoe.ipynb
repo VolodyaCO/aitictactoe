{
 "cells": [
  {
   "cell_type": "code",
   "execution_count": 2,
   "metadata": {},
   "outputs": [],
   "source": [
    "import numpy as np\n",
    "import datetime"
   ]
  },
  {
   "cell_type": "markdown",
   "metadata": {},
   "source": [
    "The board will be represented by a 3x3 matrix, with components -1, 0 or 1. -1(1) corresponds to player -1(1), and 0 to an empty square. The board shall be saved in the self.board at all times.\n",
    "\n",
    "A state is the same as the board, with a main difference: -1(1) corresponds to the mark of the current(opponent) player.\n",
    "\n",
    "A play is a 3x3 matrix with all zeros except one component."
   ]
  },
  {
   "cell_type": "code",
   "execution_count": 18,
   "metadata": {},
   "outputs": [],
   "source": [
    "class Board(object):\n",
    "    def start(self):\n",
    "        self.board = np.zeros(3, 3)\n",
    "        return self.board.flatten()\n",
    "\n",
    "    def current_player(self, state):\n",
    "        \"\"\"\n",
    "        Gets the current player number ::cplayNum::\n",
    "        \"\"\"\n",
    "        whos_turn = np.sum(np.abs(state))\n",
    "        if whos_turn%2 == 0:\n",
    "            cplayNum = -1\n",
    "        else:\n",
    "            cplayNum = 1\n",
    "        return cplayNum\n",
    "\n",
    "    def next_state(self, state, play):\n",
    "        \"\"\"\n",
    "        Takes the game state, and the move to be applied, returns the new game state.\n",
    "        \"\"\"\n",
    "        new_state = state + play\n",
    "        return new_state\n",
    "\n",
    "    def legal_plays(self, state):\n",
    "        \"\"\"\n",
    "        Takes the game state and returns the possible legal plays\n",
    "        \"\"\"\n",
    "        idx = np.where(state == 0)[0]\n",
    "        empty_play = np.zeros(9)\n",
    "        new_plays = []\n",
    "        for i in idx:\n",
    "            copy = empty_play[:]\n",
    "            copy[i] = -1\n",
    "            new_plays.append(copy)\n",
    "        return new_plays\n",
    "\n",
    "    def winner(self, state):\n",
    "        matrix = state.reshape(3,3)\n",
    "        if np.any(matrix.sum(axis=0) == 3) or np.any(np.trace(matrix) == 3) or np.any(np.trace(np.fliplr(matrix)) == 3):\n",
    "            # player 1 wins\n",
    "            winner = 1\n",
    "        elif np.any(matrix.sum(axis=0) == -3) or np.any(np.trace(matrix) == -3) or np.any(np.trace(np.fliplr(matrix)) == -3):\n",
    "            # player -1 wins\n",
    "            winner = -1\n",
    "        elif np.where(state == 0)[0]:\n",
    "            # game still ongoing\n",
    "            winner = 0\n",
    "        else:\n",
    "            # game is a draw\n",
    "            winner = 2\n",
    "        return winner"
   ]
  },
  {
   "cell_type": "code",
   "execution_count": null,
   "metadata": {},
   "outputs": [],
   "source": [
    "class MonteCarlo(object):\n",
    "    def __init__(self, board, time=2, max_moves=5):\n",
    "        self.board = board\n",
    "        self.states = []\n",
    "        seconds = time\n",
    "        self.calculation_time = datetime.timedelta(seconds=seconds)\n",
    "        self.max_moves = max_moves\n",
    "\n",
    "    def update(self, state):\n",
    "        self.states.append(state)\n",
    "\n",
    "    def get_play(self):\n",
    "        begin = datetime.datetime.utcnow()\n",
    "        while datetime.datetime.utcnow() - begin < self.calculation_time:\n",
    "            self.run_simulation()\n",
    "        # Causes the AI to calculate the best move from the\n",
    "        # current game state and return it.\n",
    "\n",
    "    def run_simulation(self):\n",
    "        # Plays out a \"random\" game from the current position,\n",
    "        # then updates the statistics tables with the result.\n",
    "        states_copy = self.states[:]\n",
    "        state = states_copy[-1]\n",
    "\n",
    "        for t in xrange(self.max_moves):\n",
    "            legal = self.board.legal_plays(state)\n",
    "            \n",
    "            # play to be replaced for the recommended\n",
    "            play = choice(legal)\n",
    "            state = self.board.next_state(state, play)\n",
    "            states_copy.append(state)\n",
    "\n",
    "            winner = self.board.winner(states_copy)\n",
    "            if winner:\n",
    "                break"
   ]
  }
 ],
 "metadata": {
  "kernelspec": {
   "display_name": "Python 3",
   "language": "python",
   "name": "python3"
  },
  "language_info": {
   "codemirror_mode": {
    "name": "ipython",
    "version": 3
   },
   "file_extension": ".py",
   "mimetype": "text/x-python",
   "name": "python",
   "nbconvert_exporter": "python",
   "pygments_lexer": "ipython3",
   "version": "3.6.4"
  }
 },
 "nbformat": 4,
 "nbformat_minor": 2
}
