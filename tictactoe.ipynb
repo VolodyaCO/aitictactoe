{
 "cells": [
  {
   "cell_type": "code",
   "execution_count": 2,
   "metadata": {},
   "outputs": [],
   "source": [
    "import numpy as np"
   ]
  },
  {
   "cell_type": "markdown",
   "metadata": {},
   "source": [
    "The board will be represented by a 3x3 matrix, with components -1, 0 or 1. -1(1) corresponds to the mark of player -1(1), and 0 to an empty square. Player -1 always starts.\n",
    "\n",
    "A play is a 3x3 matrix with all zeros except one component."
   ]
  },
  {
   "cell_type": "code",
   "execution_count": 18,
   "metadata": {},
   "outputs": [],
   "source": [
    "class Board(object):\n",
    "    def start(self):\n",
    "        self.board = np.zeros(3, 3)\n",
    "        return self.board.flatten()\n",
    "\n",
    "    def current_player(self, state):\n",
    "        \"\"\"\n",
    "        Gets the current player number ::cplayNum::\n",
    "        \"\"\"\n",
    "        whos_turn = np.sum(state)\n",
    "        if whos_turn == 0:\n",
    "            cplayNum = -1\n",
    "        else:\n",
    "            cplayNum = 1\n",
    "        return cplayNum\n",
    "\n",
    "    def next_state(self, state, play):\n",
    "        \"\"\"\n",
    "        Takes the game state, and the move to be applied, returns the new game state.\n",
    "        \"\"\"\n",
    "        new_state = state + play\n",
    "        return new_state\n",
    "\n",
    "    def legal_plays(self, state):\n",
    "        \"\"\"\n",
    "        Takes the game state and returns the possible legal plays\n",
    "        \"\"\"\n",
    "        idx = np.where(state == 0)[0]\n",
    "        cplayNum = current_player(state)\n",
    "        empty_play = np.zeros(9)\n",
    "        new_plays = []\n",
    "        for i in idx:\n",
    "            copy = empty_play[:]\n",
    "            copy[i] = cplayNum\n",
    "            new_plays.append(copy)\n",
    "        return new_plays\n",
    "\n",
    "    def winner(self, state):\n",
    "        matrix = state.reshape(3,3)\n",
    "        if np.any(matrix.sum(axis=0) == 3) or np.any(np.trace(matrix) == 3) or np.any(np.trace(np.fliplr(matrix)) == 3):\n",
    "            # player 1 wins\n",
    "            winner = 1\n",
    "        elif np.any(matrix.sum(axis=0) == -3) or np.any(np.trace(matrix) == -3) or np.any(np.trace(np.fliplr(matrix)) == -3):\n",
    "            # player -1 wins\n",
    "            winner = -1\n",
    "        elif np.where(state == 0)[0]:\n",
    "            # game still ongoing\n",
    "            winner = 0\n",
    "        else:\n",
    "            # game is a draw\n",
    "            winner = 2\n",
    "        return winner"
   ]
  },
  {
   "cell_type": "code",
   "execution_count": null,
   "metadata": {},
   "outputs": [],
   "source": []
  }
 ],
 "metadata": {
  "kernelspec": {
   "display_name": "Python 3",
   "language": "python",
   "name": "python3"
  },
  "language_info": {
   "codemirror_mode": {
    "name": "ipython",
    "version": 3
   },
   "file_extension": ".py",
   "mimetype": "text/x-python",
   "name": "python",
   "nbconvert_exporter": "python",
   "pygments_lexer": "ipython3",
   "version": "3.5.4"
  }
 },
 "nbformat": 4,
 "nbformat_minor": 2
}
